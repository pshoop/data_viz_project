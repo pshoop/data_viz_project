{
 "cells": [
  {
   "cell_type": "markdown",
   "metadata": {},
   "source": [
    "# Data Visualization Part 2!\n",
    "\n",
    "## Now with even more not using functions for plotting when I should...\n",
    "#### I guess I just like to type.\n",
    "##### Not really... I was just on a roll and forgot."
   ]
  },
  {
   "cell_type": "code",
   "execution_count": 3,
   "metadata": {},
   "outputs": [],
   "source": [
    "# Import all the things\n",
    "import pandas as pd\n",
    "import matplotlib.pyplot as plt\n",
    "import numpy as np\n",
    "import seaborn as sns\n",
    "\n",
    "# Make plots inline\n",
    "%matplotlib inline"
   ]
  },
  {
   "cell_type": "code",
   "execution_count": 4,
   "metadata": {},
   "outputs": [],
   "source": [
    "# Read in the per_capita.csv\n",
    "# This was data taken from an excel file with 4 sheets\n",
    "# I could have done read_excel ... but saving that sheet out in excel as .csv was easier.\n",
    "df_percapita = pd.read_csv('./data/per_capita.csv')"
   ]
  },
  {
   "cell_type": "code",
   "execution_count": 5,
   "metadata": {},
   "outputs": [
    {
     "data": {
      "text/html": [
       "<div>\n",
       "<style scoped>\n",
       "    .dataframe tbody tr th:only-of-type {\n",
       "        vertical-align: middle;\n",
       "    }\n",
       "\n",
       "    .dataframe tbody tr th {\n",
       "        vertical-align: top;\n",
       "    }\n",
       "\n",
       "    .dataframe thead th {\n",
       "        text-align: right;\n",
       "    }\n",
       "</style>\n",
       "<table border=\"1\" class=\"dataframe\">\n",
       "  <thead>\n",
       "    <tr style=\"text-align: right;\">\n",
       "      <th></th>\n",
       "      <th>drinking_age</th>\n",
       "      <th>craft_breweries</th>\n",
       "      <th>rank</th>\n",
       "    </tr>\n",
       "  </thead>\n",
       "  <tbody>\n",
       "    <tr>\n",
       "      <th>count</th>\n",
       "      <td>5.100000e+01</td>\n",
       "      <td>51.000000</td>\n",
       "      <td>51.000000</td>\n",
       "    </tr>\n",
       "    <tr>\n",
       "      <th>mean</th>\n",
       "      <td>4.448342e+06</td>\n",
       "      <td>55.450980</td>\n",
       "      <td>26.000000</td>\n",
       "    </tr>\n",
       "    <tr>\n",
       "      <th>std</th>\n",
       "      <td>5.001530e+06</td>\n",
       "      <td>67.289023</td>\n",
       "      <td>14.866069</td>\n",
       "    </tr>\n",
       "    <tr>\n",
       "      <th>min</th>\n",
       "      <td>4.170340e+05</td>\n",
       "      <td>4.000000</td>\n",
       "      <td>1.000000</td>\n",
       "    </tr>\n",
       "    <tr>\n",
       "      <th>25%</th>\n",
       "      <td>1.205332e+06</td>\n",
       "      <td>15.500000</td>\n",
       "      <td>13.500000</td>\n",
       "    </tr>\n",
       "    <tr>\n",
       "      <th>50%</th>\n",
       "      <td>3.186609e+06</td>\n",
       "      <td>31.000000</td>\n",
       "      <td>26.000000</td>\n",
       "    </tr>\n",
       "    <tr>\n",
       "      <th>75%</th>\n",
       "      <td>4.987148e+06</td>\n",
       "      <td>64.500000</td>\n",
       "      <td>38.500000</td>\n",
       "    </tr>\n",
       "    <tr>\n",
       "      <th>max</th>\n",
       "      <td>2.713625e+07</td>\n",
       "      <td>381.000000</td>\n",
       "      <td>51.000000</td>\n",
       "    </tr>\n",
       "  </tbody>\n",
       "</table>\n",
       "</div>"
      ],
      "text/plain": [
       "       drinking_age  craft_breweries       rank\n",
       "count  5.100000e+01        51.000000  51.000000\n",
       "mean   4.448342e+06        55.450980  26.000000\n",
       "std    5.001530e+06        67.289023  14.866069\n",
       "min    4.170340e+05         4.000000   1.000000\n",
       "25%    1.205332e+06        15.500000  13.500000\n",
       "50%    3.186609e+06        31.000000  26.000000\n",
       "75%    4.987148e+06        64.500000  38.500000\n",
       "max    2.713625e+07       381.000000  51.000000"
      ]
     },
     "execution_count": 5,
     "metadata": {},
     "output_type": "execute_result"
    }
   ],
   "source": [
    "# Get some quick stats\n",
    "df_percapita.describe()"
   ]
  },
  {
   "cell_type": "code",
   "execution_count": 6,
   "metadata": {},
   "outputs": [
    {
     "data": {
      "text/plain": [
       "state              object\n",
       "drinking_age        int64\n",
       "craft_breweries     int64\n",
       "rank                int64\n",
       "dtype: object"
      ]
     },
     "execution_count": 6,
     "metadata": {},
     "output_type": "execute_result"
    }
   ],
   "source": [
    "# Some more quick checks on the data\n",
    "# Quick note - most of my data was getting read in as objects\n",
    "# So I had to go in to excel and fix the datatypes\n",
    "# I can also do this in python... but it is actually quicker in excel.\n",
    "# Morale of the story - check your data types otherwise...\n",
    "df_percapita.dtypes"
   ]
  },
  {
   "cell_type": "code",
   "execution_count": 7,
   "metadata": {},
   "outputs": [
    {
     "data": {
      "image/png": "[encoded data removed]",
      "text/plain": [
       "<Figure size 1080x576 with 1 Axes>"
      ]
     },
     "metadata": {
      "needs_background": "light"
     },
     "output_type": "display_data"
    }
   ],
   "source": [
    "# Plot the plots\n",
    "df_percapita.sort_values('drinking_age', inplace=True, ascending = False)\n",
    "\n",
    "states = list(df_percapita.state.head(10))\n",
    "vals = list(df_percapita.drinking_age.head(10))\n",
    "\n",
    "plt.barh(states, vals, edgecolor='blue', color='lightgrey')\n",
    "\n",
    "plt.suptitle('Top 10 States', fontweight='bold')\n",
    "plt.title('based on Number of Individuals 21+')\n",
    "plt.xlabel('21+ Population', fontsize='14', fontweight='bold')\n",
    "plt.ylabel('State', fontsize='14', fontweight='bold')\n",
    "plt.yticks(fontsize='12')\n",
    "\n",
    "for i, v in enumerate(vals):\n",
    "    plt.text(v/2, i +.1, str(v), color='black', fontweight='bold')\n",
    "\n",
    "plt.gcf().set_size_inches(15,8)\n",
    "plt.gca().invert_yaxis()\n",
    "\n",
    "\n",
    "plt.savefig('./plots/drinking_age.png', transparent = True, bbox_inches='tight')\n",
    "plt.show()"
   ]
  },
  {
   "cell_type": "code",
   "execution_count": 8,
   "metadata": {},
   "outputs": [
    {
     "data": {
      "text/html": [
       "<div>\n",
       "<style scoped>\n",
       "    .dataframe tbody tr th:only-of-type {\n",
       "        vertical-align: middle;\n",
       "    }\n",
       "\n",
       "    .dataframe tbody tr th {\n",
       "        vertical-align: top;\n",
       "    }\n",
       "\n",
       "    .dataframe thead th {\n",
       "        text-align: right;\n",
       "    }\n",
       "</style>\n",
       "<table border=\"1\" class=\"dataframe\">\n",
       "  <thead>\n",
       "    <tr style=\"text-align: right;\">\n",
       "      <th></th>\n",
       "      <th>state</th>\n",
       "      <th>drinking_age</th>\n",
       "      <th>craft_breweries</th>\n",
       "      <th>rank</th>\n",
       "    </tr>\n",
       "  </thead>\n",
       "  <tbody>\n",
       "    <tr>\n",
       "      <th>4</th>\n",
       "      <td>California</td>\n",
       "      <td>27136252</td>\n",
       "      <td>381</td>\n",
       "      <td>19</td>\n",
       "    </tr>\n",
       "    <tr>\n",
       "      <th>43</th>\n",
       "      <td>Texas</td>\n",
       "      <td>17934667</td>\n",
       "      <td>96</td>\n",
       "      <td>42</td>\n",
       "    </tr>\n",
       "    <tr>\n",
       "      <th>9</th>\n",
       "      <td>Florida</td>\n",
       "      <td>14587186</td>\n",
       "      <td>66</td>\n",
       "      <td>46</td>\n",
       "    </tr>\n",
       "    <tr>\n",
       "      <th>32</th>\n",
       "      <td>New York</td>\n",
       "      <td>14475962</td>\n",
       "      <td>165</td>\n",
       "      <td>26</td>\n",
       "    </tr>\n",
       "    <tr>\n",
       "      <th>38</th>\n",
       "      <td>Pennsylvania</td>\n",
       "      <td>9463602</td>\n",
       "      <td>108</td>\n",
       "      <td>25</td>\n",
       "    </tr>\n",
       "  </tbody>\n",
       "</table>\n",
       "</div>"
      ],
      "text/plain": [
       "           state  drinking_age  craft_breweries  rank\n",
       "4     California      27136252              381    19\n",
       "43         Texas      17934667               96    42\n",
       "9        Florida      14587186               66    46\n",
       "32      New York      14475962              165    26\n",
       "38  Pennsylvania       9463602              108    25"
      ]
     },
     "execution_count": 8,
     "metadata": {},
     "output_type": "execute_result"
    }
   ],
   "source": [
    "# A quick check of the top 5 states by drinking age to verify and check sanity\n",
    "df_percapita.head()"
   ]
  },
  {
   "cell_type": "code",
   "execution_count": 9,
   "metadata": {},
   "outputs": [],
   "source": [
    "# read in some more data from that excel file... this time sheet 3,\n",
    "# which deals with breweries per state\n",
    "df_perstate = pd.read_csv('./data/per_state.csv')"
   ]
  },
  {
   "cell_type": "code",
   "execution_count": 10,
   "metadata": {},
   "outputs": [
    {
     "data": {
      "text/html": [
       "<div>\n",
       "<style scoped>\n",
       "    .dataframe tbody tr th:only-of-type {\n",
       "        vertical-align: middle;\n",
       "    }\n",
       "\n",
       "    .dataframe tbody tr th {\n",
       "        vertical-align: top;\n",
       "    }\n",
       "\n",
       "    .dataframe thead th {\n",
       "        text-align: right;\n",
       "    }\n",
       "</style>\n",
       "<table border=\"1\" class=\"dataframe\">\n",
       "  <thead>\n",
       "    <tr style=\"text-align: right;\">\n",
       "      <th></th>\n",
       "      <th>State</th>\n",
       "      <th>Craft Breweries</th>\n",
       "      <th>Craft Breweries Rank</th>\n",
       "    </tr>\n",
       "  </thead>\n",
       "  <tbody>\n",
       "    <tr>\n",
       "      <th>0</th>\n",
       "      <td>Alabama</td>\n",
       "      <td>13</td>\n",
       "      <td>40</td>\n",
       "    </tr>\n",
       "    <tr>\n",
       "      <th>1</th>\n",
       "      <td>Alaska</td>\n",
       "      <td>22</td>\n",
       "      <td>31</td>\n",
       "    </tr>\n",
       "    <tr>\n",
       "      <th>2</th>\n",
       "      <td>Arizona</td>\n",
       "      <td>47</td>\n",
       "      <td>19</td>\n",
       "    </tr>\n",
       "    <tr>\n",
       "      <th>3</th>\n",
       "      <td>Arkansas</td>\n",
       "      <td>13</td>\n",
       "      <td>40</td>\n",
       "    </tr>\n",
       "    <tr>\n",
       "      <th>4</th>\n",
       "      <td>California</td>\n",
       "      <td>381</td>\n",
       "      <td>1</td>\n",
       "    </tr>\n",
       "  </tbody>\n",
       "</table>\n",
       "</div>"
      ],
      "text/plain": [
       "        State  Craft Breweries  Craft Breweries Rank\n",
       "0     Alabama               13                    40\n",
       "1      Alaska               22                    31\n",
       "2     Arizona               47                    19\n",
       "3    Arkansas               13                    40\n",
       "4  California              381                     1"
      ]
     },
     "execution_count": 10,
     "metadata": {},
     "output_type": "execute_result"
    }
   ],
   "source": [
    "# check out the data\n",
    "df_perstate.head()"
   ]
  },
  {
   "cell_type": "code",
   "execution_count": 11,
   "metadata": {},
   "outputs": [
    {
     "data": {
      "image/png": "[encoded data removed]",
      "text/plain": [
       "<Figure size 1080x576 with 1 Axes>"
      ]
     },
     "metadata": {
      "needs_background": "light"
     },
     "output_type": "display_data"
    }
   ],
   "source": [
    "# Plot the plots\n",
    "df_perstate.sort_values('Craft Breweries', inplace=True, ascending = False)\n",
    "\n",
    "states = list(df_perstate.State.head(10))\n",
    "vals = list(df_perstate['Craft Breweries'].head(10))\n",
    "\n",
    "plt.barh(states, vals, edgecolor='green', color='lightgreen')\n",
    "\n",
    "plt.suptitle('Top 10 States', fontweight='bold')\n",
    "plt.title('based on Number of Craft Breweries')\n",
    "plt.xlabel('Craft Breweries', fontsize='14', fontweight='bold')\n",
    "plt.ylabel('State', fontsize='14', fontweight='bold')\n",
    "plt.yticks(fontsize='12')\n",
    "\n",
    "for i, v in enumerate(vals):\n",
    "    plt.text(v/2, i +.1, str(v), color='black', fontweight='bold')\n",
    "\n",
    "plt.gcf().set_size_inches(15,8)\n",
    "plt.gca().invert_yaxis()\n",
    "\n",
    "plt.savefig('./plots/perstate.png', transparent = True, bbox_inches='tight')\n",
    "plt.show()"
   ]
  },
  {
   "cell_type": "markdown",
   "metadata": {},
   "source": [
    "# Here ends Data Visualization part 2. On to Data_Viz_3 notebook!\n",
    "\n",
    "### This one was MUCH easier"
   ]
  },
  {
   "cell_type": "code",
   "execution_count": null,
   "metadata": {},
   "outputs": [],
   "source": []
  }
 ],
 "metadata": {
  "kernelspec": {
   "display_name": "Python 3",
   "language": "python",
   "name": "python3"
  },
  "language_info": {
   "codemirror_mode": {
    "name": "ipython",
    "version": 3
   },
   "file_extension": ".py",
   "mimetype": "text/x-python",
   "name": "python",
   "nbconvert_exporter": "python",
   "pygments_lexer": "ipython3",
   "version": "3.7.1"
  }
 },
 "nbformat": 4,
 "nbformat_minor": 2
}
